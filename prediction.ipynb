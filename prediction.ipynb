{
 "cells": [
  {
   "cell_type": "code",
   "execution_count": 1,
   "metadata": {},
   "outputs": [],
   "source": [
    "from flask import Flask, jsonify, request\n",
    "from flask_cors import CORS, cross_origin\n",
    "import pickle\n",
    "import pandas as pd"
   ]
  },
  {
   "cell_type": "code",
   "execution_count": 2,
   "metadata": {},
   "outputs": [],
   "source": [
    "# Get headers for payload\n",
    "headers = ['times_pregnant', 'glucose', 'blood_pressure', \n",
    "           'skin_fold_thick', 'serum_insuling', 'mass_index', 'diabetes_pedigree', 'age']"
   ]
  },
  {
   "cell_type": "code",
   "execution_count": 4,
   "metadata": {},
   "outputs": [],
   "source": [
    "# Use pickle to load in the pre-trained model\n",
    "xgb_file = open(\"xgb-train-model.pkl\",'rb')\n",
    "xgb_model = pickle.load(xgb_file)\n",
    "\n",
    "# Use pickle to load in the pre-trained model\n",
    "ada_file = open(\"ada-train-model.pkl\",'rb')\n",
    "ada_model = pickle.load(ada_file)"
   ]
  },
  {
   "cell_type": "code",
   "execution_count": 28,
   "metadata": {},
   "outputs": [
    {
     "name": "stdout",
     "output_type": "stream",
     "text": [
      "{\"xgb-prediction\":0.8134400844573975}, time:0.029904842376708984\n",
      "{\"xgb-prediction\":0.5654869675636292}, time:0.04216456413269043\n",
      "{\"xgb-prediction\":0.5830129384994507}, time:0.04093050956726074\n",
      "{\"ada-prediction\":0.49503849337992956}, time:0.03131985664367676\n",
      "{\"ada-prediction\":0.48215081168815505}, time:0.03769969940185547\n",
      "{\"ada-prediction\":0.5049340322940734}, time:0.025359392166137695\n",
      "{\"ada-prediction\":0.4935408314561051}, time:0.027196407318115234\n",
      "{\"ada-prediction\":0.46142320142470206}, time:0.039794206619262695\n",
      "{\"ada-prediction\":0.49069573893399354}, time:0.033535003662109375\n",
      "{\"ada-prediction\":0.4963867592026677}, time:0.02958846092224121\n",
      "{\"ada-prediction\":0.4954333678202479}, time:0.031062602996826172\n",
      "{\"ada-prediction\":0.5070528391692668}, time:0.029427289962768555\n",
      "{\"ada-prediction\":0.3226890930950418}, time:0.02119278907775879\n",
      "{\"ada-prediction\":0.4815267663910383}, time:0.019031286239624023\n",
      "{\"xgb-prediction\":0.8223002552986145}, time:0.02310800552368164\n",
      "{\"xgb-prediction\":0.6169854402542114}, time:0.028259992599487305\n",
      "{\"xgb-prediction\":0.7081215381622314}, time:0.03251957893371582\n",
      "{\"ada-prediction\":0.48644285961838385}, time:0.02989053726196289\n",
      "{\"ada-prediction\":0.4935146560803456}, time:0.0370326042175293\n"
     ]
    },
    {
     "ename": "KeyboardInterrupt",
     "evalue": "",
     "output_type": "error",
     "traceback": [
      "\u001b[0;31m---------------------------------------------------------------------------\u001b[0m",
      "\u001b[0;31mKeyboardInterrupt\u001b[0m                         Traceback (most recent call last)",
      "\u001b[0;32m<ipython-input-28-f825c752cc42>\u001b[0m in \u001b[0;36m<module>\u001b[0;34m\u001b[0m\n\u001b[1;32m      6\u001b[0m \u001b[0mfile\u001b[0m \u001b[0;34m=\u001b[0m \u001b[0mopen\u001b[0m\u001b[0;34m(\u001b[0m\u001b[0mfilepath\u001b[0m\u001b[0;34m,\u001b[0m \u001b[0;34m'r'\u001b[0m\u001b[0;34m)\u001b[0m\u001b[0;34m\u001b[0m\u001b[0m\n\u001b[1;32m      7\u001b[0m \u001b[0;32mfor\u001b[0m \u001b[0mline\u001b[0m \u001b[0;32min\u001b[0m \u001b[0mfile1\u001b[0m\u001b[0;34m:\u001b[0m\u001b[0;34m\u001b[0m\u001b[0m\n\u001b[0;32m----> 8\u001b[0;31m     \u001b[0mtime\u001b[0m\u001b[0;34m.\u001b[0m\u001b[0msleep\u001b[0m\u001b[0;34m(\u001b[0m\u001b[0;36m0.1\u001b[0m\u001b[0;34m)\u001b[0m\u001b[0;34m\u001b[0m\u001b[0m\n\u001b[0m\u001b[1;32m      9\u001b[0m     \u001b[0mcount\u001b[0m \u001b[0;34m+=\u001b[0m \u001b[0;36m1\u001b[0m\u001b[0;34m\u001b[0m\u001b[0m\n\u001b[1;32m     10\u001b[0m     \u001b[0mpayload\u001b[0m \u001b[0;34m=\u001b[0m \u001b[0mline\u001b[0m\u001b[0;34m.\u001b[0m\u001b[0mstrip\u001b[0m\u001b[0;34m(\u001b[0m\u001b[0;34m)\u001b[0m\u001b[0;34m\u001b[0m\u001b[0m\n",
      "\u001b[0;31mKeyboardInterrupt\u001b[0m: "
     ]
    }
   ],
   "source": [
    "import time\n",
    "\n",
    "filepath = './training.csv'\n",
    "count = 0\n",
    "# Opening file \n",
    "file = open(filepath, 'r') \n",
    "for line in file1: \n",
    "    time.sleep(0.1)\n",
    "    count += 1\n",
    "    payload = line.strip()\n",
    "    values = [float(i) for i in payload.split(',')]\n",
    "    values = values[:-1]\n",
    "    input_variables = pd.DataFrame([values],\n",
    "                                columns=headers, \n",
    "                                dtype=float,\n",
    "                                index=['input'])\n",
    "    # Get the model's prediction\n",
    "    tic = time.time()\n",
    "    xgb_prediction_proba = xgb_model.predict_proba(input_variables)\n",
    "    xgb_prediction = (xgb_prediction_proba[0])[1]\n",
    "    xgb_ret = float(xgb_prediction)\n",
    "    \n",
    "    ada_prediction_proba = ada_model.predict_proba(input_variables)\n",
    "    ada_prediction = (ada_prediction_proba[0])[1]\n",
    "    ada_ret = float(ada_prediction)\n",
    "    toc = time.time()\n",
    "    timetaken = toc - tic\n",
    "    if ada_ret >= xgb_ret:\n",
    "        print('{\"ada-prediction\":' + str(float(ada_prediction)) + '}' + \", time:\" + str(timetaken))\n",
    "    else:\n",
    "        print('{\"xgb-prediction\":' + str(float(xgb_prediction)) + '}' + \", time:\" + str(timetaken))\n",
    "\n",
    "# Closing files \n",
    "file.close()"
   ]
  },
  {
   "cell_type": "code",
   "execution_count": null,
   "metadata": {},
   "outputs": [],
   "source": []
  }
 ],
 "metadata": {
  "kernelspec": {
   "display_name": "Python 3",
   "language": "python",
   "name": "python3"
  },
  "language_info": {
   "codemirror_mode": {
    "name": "ipython",
    "version": 3
   },
   "file_extension": ".py",
   "mimetype": "text/x-python",
   "name": "python",
   "nbconvert_exporter": "python",
   "pygments_lexer": "ipython3",
   "version": "3.5.2"
  }
 },
 "nbformat": 4,
 "nbformat_minor": 2
}
