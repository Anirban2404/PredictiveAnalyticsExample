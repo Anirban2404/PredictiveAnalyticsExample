{
 "cells": [
  {
   "cell_type": "code",
   "execution_count": null,
   "metadata": {},
   "outputs": [],
   "source": [
    "#!/usr/bin/env python3\n",
    "import paho.mqtt.client as mqtt"
   ]
  },
  {
   "cell_type": "code",
   "execution_count": null,
   "metadata": {},
   "outputs": [],
   "source": [
    "# This is the Publisher\n",
    "client = mqtt.Client()\n",
    "client.connect(\"129.59.234.231\",1883,60)"
   ]
  },
  {
   "cell_type": "code",
   "execution_count": null,
   "metadata": {},
   "outputs": [],
   "source": [
    "import time\n",
    "\n",
    "filepath = './training.csv'\n",
    "count = 0\n",
    "# Opening file \n",
    "file = open(filepath, 'r') \n",
    "for line in file: \n",
    "    time.sleep(1)\n",
    "    count += 1\n",
    "    payload = line.strip()\n",
    "    values = [float(i) for i in payload.split(',')]\n",
    "    #print(values[:-1])\n",
    "    input_variables = str(values[:-1]) + \":\" + str(time.time())\n",
    "    #print(input_variables)\n",
    "    client.publish(\"topic/predict\", input_variables);\n",
    "    \n",
    "file.close()"
   ]
  },
  {
   "cell_type": "code",
   "execution_count": null,
   "metadata": {},
   "outputs": [],
   "source": [
    "client.disconnect();"
   ]
  },
  {
   "cell_type": "code",
   "execution_count": null,
   "metadata": {},
   "outputs": [],
   "source": []
  }
 ],
 "metadata": {
  "kernelspec": {
   "display_name": "Python 3",
   "language": "python",
   "name": "python3"
  },
  "language_info": {
   "codemirror_mode": {
    "name": "ipython",
    "version": 3
   },
   "file_extension": ".py",
   "mimetype": "text/x-python",
   "name": "python",
   "nbconvert_exporter": "python",
   "pygments_lexer": "ipython3",
   "version": "3.5.2"
  }
 },
 "nbformat": 4,
 "nbformat_minor": 2
}
