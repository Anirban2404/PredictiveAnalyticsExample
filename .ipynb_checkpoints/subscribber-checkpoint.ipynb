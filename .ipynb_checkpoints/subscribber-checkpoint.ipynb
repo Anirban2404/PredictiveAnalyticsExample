{
 "cells": [
  {
   "cell_type": "code",
   "execution_count": 2,
   "metadata": {},
   "outputs": [],
   "source": [
    "#!/usr/bin/env python3\n",
    "\n",
    "import paho.mqtt.client as mqtt\n",
    "\n",
    "# This is the Subscriber\n",
    "\n",
    "def on_connect(client, userdata, flags, rc):\n",
    "    print(\"Connected with result code \"+str(rc))\n",
    "    client.subscribe(\"topic/predict\")"
   ]
  },
  {
   "cell_type": "code",
   "execution_count": 3,
   "metadata": {},
   "outputs": [],
   "source": [
    "def on_message(client, userdata, msg):\n",
    "    print(msg.payload.decode())\n",
    "    values = msg.payload.decode()\n",
    "    predict(values)"
   ]
  },
  {
   "cell_type": "code",
   "execution_count": 4,
   "metadata": {},
   "outputs": [],
   "source": [
    "def predict():\n",
    "    values = [float(i) for i in payload.split(',')]\n",
    "    input_variables = pd.DataFrame(values,\n",
    "                                columns=headers, \n",
    "                                dtype=float,\n",
    "                                index=['input'])\n",
    "    # Get the model's prediction\n",
    "    tic = time.time()\n",
    "    xgb_prediction_proba = xgb_model.predict_proba(input_variables)\n",
    "    xgb_prediction = (xgb_prediction_proba[0])[1]\n",
    "    xgb_ret = float(xgb_prediction)\n",
    "    \n",
    "    ada_prediction_proba = ada_model.predict_proba(input_variables)\n",
    "    ada_prediction = (ada_prediction_proba[0])[1]\n",
    "    ada_ret = float(ada_prediction)\n",
    "    toc = time.time()\n",
    "    timetaken = toc - tic\n",
    "    if ada_ret >= xgb_ret:\n",
    "        print('{\"ada-prediction\":' + str(float(ada_prediction)) + '}' + \", time:\" + str(timetaken))\n",
    "    else:\n",
    "        print('{\"xgb-prediction\":' + str(float(xgb_prediction)) + '}' + \", time:\" + str(timetaken))"
   ]
  },
  {
   "cell_type": "code",
   "execution_count": null,
   "metadata": {},
   "outputs": [
    {
     "name": "stdout",
     "output_type": "stream",
     "text": [
      "Connected with result code 0\n",
      "[13.0, 145.0, 82.0, 19.0, 110.0, 22.2, 0.245, 57.0]\n",
      "[5.0, 117.0, 92.0, 0.0, 0.0, 34.1, 0.337, 38.0]\n",
      "[5.0, 109.0, 75.0, 26.0, 0.0, 36.0, 0.546, 60.0]\n",
      "[3.0, 158.0, 76.0, 36.0, 245.0, 31.6, 0.851, 28.0]\n",
      "[3.0, 88.0, 58.0, 11.0, 54.0, 24.8, 0.267, 22.0]\n",
      "[6.0, 92.0, 92.0, 0.0, 0.0, 19.9, 0.188, 28.0]\n",
      "[10.0, 122.0, 78.0, 31.0, 0.0, 27.6, 0.512, 45.0]\n",
      "[4.0, 103.0, 60.0, 33.0, 192.0, 24.0, 0.966, 33.0]\n",
      "[11.0, 138.0, 76.0, 0.0, 0.0, 33.2, 0.42, 35.0]\n",
      "[9.0, 102.0, 76.0, 37.0, 0.0, 32.9, 0.665, 46.0]\n",
      "[2.0, 90.0, 68.0, 42.0, 0.0, 38.2, 0.503, 27.0]\n"
     ]
    }
   ],
   "source": [
    "client = mqtt.Client()\n",
    "client.connect(\"129.59.234.231\",1883,60)\n",
    "\n",
    "client.on_connect = on_connect\n",
    "client.on_message = on_message\n",
    "\n",
    "client.loop_forever()"
   ]
  },
  {
   "cell_type": "code",
   "execution_count": null,
   "metadata": {},
   "outputs": [],
   "source": [
    "client.disconnect()"
   ]
  }
 ],
 "metadata": {
  "kernelspec": {
   "display_name": "Python 3",
   "language": "python",
   "name": "python3"
  },
  "language_info": {
   "codemirror_mode": {
    "name": "ipython",
    "version": 3
   },
   "file_extension": ".py",
   "mimetype": "text/x-python",
   "name": "python",
   "nbconvert_exporter": "python",
   "pygments_lexer": "ipython3",
   "version": "3.5.2"
  }
 },
 "nbformat": 4,
 "nbformat_minor": 2
}
