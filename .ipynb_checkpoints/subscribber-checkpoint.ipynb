{
 "cells": [
  {
   "cell_type": "code",
   "execution_count": 11,
   "metadata": {},
   "outputs": [],
   "source": [
    "#!/usr/bin/env python3\n",
    "\n",
    "import paho.mqtt.client as mqtt\n",
    "import time\n",
    "import pickle\n",
    "import pandas as pd\n",
    "# This is the Subscriber\n",
    "\n",
    "def on_connect(client, userdata, flags, rc):\n",
    "    print(\"Connected with result code \"+str(rc))\n",
    "    client.subscribe(\"topic/predict\")"
   ]
  },
  {
   "cell_type": "code",
   "execution_count": 12,
   "metadata": {},
   "outputs": [],
   "source": [
    "def load_model():\n",
    "    # Get headers for payload\n",
    "    headers = ['times_pregnant', 'glucose', 'blood_pressure', \n",
    "           'skin_fold_thick', 'serum_insuling', 'mass_index', 'diabetes_pedigree', 'age']\n",
    "    # Use pickle to load in the pre-trained model\n",
    "    xgb_file = open(\"xgb-train-model.pkl\",'rb')\n",
    "    xgb_model = pickle.load(xgb_file)\n",
    "\n",
    "    # Use pickle to load in the pre-trained model\n",
    "    ada_file = open(\"ada-train-model.pkl\",'rb')\n",
    "    ada_model = pickle.load(ada_file)\n",
    "    return [xgb_model,ada_model]"
   ]
  },
  {
   "cell_type": "code",
   "execution_count": 13,
   "metadata": {},
   "outputs": [],
   "source": [
    "def predict(in_values):\n",
    "    headers = ['times_pregnant', 'glucose', 'blood_pressure', \n",
    "           'skin_fold_thick', 'serum_insuling', 'mass_index', 'diabetes_pedigree', 'age']\n",
    "    \n",
    "    xgb_model,ada_model = load_model()\n",
    "    \n",
    "    valArr = in_values.split(':')\n",
    "    splitVal = valArr[0]\n",
    "    \n",
    "    values_arr = splitVal[1:len(splitVal)-1]\n",
    "    values = [float(i) for i in values_arr.split(',')]\n",
    "    input_variables = pd.DataFrame([values],\n",
    "                                columns=headers, \n",
    "                                dtype=float,\n",
    "                                index=['input'])\n",
    "    # Get the model's prediction\n",
    "    #tic = time.time()\n",
    "    tic = float(valArr[1])\n",
    "    xgb_prediction_proba = xgb_model.predict_proba(input_variables)\n",
    "    xgb_prediction = (xgb_prediction_proba[0])[1]\n",
    "    xgb_ret = float(xgb_prediction)\n",
    "    \n",
    "    ada_prediction_proba = ada_model.predict_proba(input_variables)\n",
    "    ada_prediction = (ada_prediction_proba[0])[1]\n",
    "    ada_ret = float(ada_prediction)\n",
    "    toc = time.time()\n",
    "    timetaken = toc - tic\n",
    "    if ada_ret >= xgb_ret:\n",
    "        print('{\"ada-prediction\":' + str(float(ada_prediction)) + '}' + \", time:\" + str(timetaken))\n",
    "\n",
    "    else:\n",
    "        print('{\"xgb-prediction\":' + str(float(xgb_prediction)) + '}' + \", time:\" + str(timetaken))\n"
   ]
  },
  {
   "cell_type": "code",
   "execution_count": 14,
   "metadata": {},
   "outputs": [],
   "source": [
    "def on_message(client, userdata, msg):\n",
    "    values = msg.payload.decode()\n",
    "    #print(values)\n",
    "    \n",
    "    predict(values)"
   ]
  },
  {
   "cell_type": "code",
   "execution_count": null,
   "metadata": {},
   "outputs": [
    {
     "name": "stdout",
     "output_type": "stream",
     "text": [
      "Connected with result code 0\n",
      "{\"ada-prediction\":0.485313239032451}, time:0.03169894218444824\n",
      "{\"ada-prediction\":0.5046722011165047}, time:0.038103342056274414\n",
      "{\"xgb-prediction\":0.7372106313705444}, time:0.042447566986083984\n",
      "{\"ada-prediction\":0.3266766534291773}, time:0.039881229400634766\n",
      "{\"ada-prediction\":0.48781158273198943}, time:0.05231595039367676\n",
      "{\"xgb-prediction\":0.8558318614959717}, time:0.041797637939453125\n"
     ]
    }
   ],
   "source": [
    "client = mqtt.Client()\n",
    "client.connect(\"129.59.234.231\",1883,60)\n",
    "\n",
    "client.on_connect = on_connect\n",
    "client.on_message = on_message\n",
    "\n",
    "client.loop_forever()"
   ]
  },
  {
   "cell_type": "code",
   "execution_count": null,
   "metadata": {},
   "outputs": [],
   "source": [
    "client.disconnect()"
   ]
  },
  {
   "cell_type": "code",
   "execution_count": null,
   "metadata": {},
   "outputs": [],
   "source": [
    "import time\n",
    "values = str(\"[6.0, 148.0, 72.0, 35.0, 0.0, 33.6, 0.627, 50.0]:1579992122.5956023\")\n",
    "predict(values)"
   ]
  },
  {
   "cell_type": "code",
   "execution_count": null,
   "metadata": {},
   "outputs": [],
   "source": []
  },
  {
   "cell_type": "code",
   "execution_count": null,
   "metadata": {},
   "outputs": [],
   "source": []
  }
 ],
 "metadata": {
  "kernelspec": {
   "display_name": "Python 3",
   "language": "python",
   "name": "python3"
  },
  "language_info": {
   "codemirror_mode": {
    "name": "ipython",
    "version": 3
   },
   "file_extension": ".py",
   "mimetype": "text/x-python",
   "name": "python",
   "nbconvert_exporter": "python",
   "pygments_lexer": "ipython3",
   "version": "3.5.2"
  }
 },
 "nbformat": 4,
 "nbformat_minor": 2
}
