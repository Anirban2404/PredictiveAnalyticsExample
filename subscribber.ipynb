{
 "cells": [
  {
   "cell_type": "code",
   "execution_count": 11,
   "metadata": {},
   "outputs": [],
   "source": [
    "#!/usr/bin/env python3\n",
    "\n",
    "import paho.mqtt.client as mqtt\n",
    "import time\n",
    "import pickle\n",
    "import pandas as pd\n",
    "# This is the Subscriber\n",
    "\n",
    "def on_connect(client, userdata, flags, rc):\n",
    "    print(\"Connected with result code \"+str(rc))\n",
    "    client.subscribe(\"topic/predict\")"
   ]
  },
  {
   "cell_type": "code",
   "execution_count": 12,
   "metadata": {},
   "outputs": [],
   "source": [
    "def load_model():\n",
    "    # Get headers for payload\n",
    "    headers = ['times_pregnant', 'glucose', 'blood_pressure', \n",
    "           'skin_fold_thick', 'serum_insuling', 'mass_index', 'diabetes_pedigree', 'age']\n",
    "    # Use pickle to load in the pre-trained model\n",
    "    xgb_file = open(\"xgb-train-model.pkl\",'rb')\n",
    "    xgb_model = pickle.load(xgb_file)\n",
    "\n",
    "    # Use pickle to load in the pre-trained model\n",
    "    ada_file = open(\"ada-train-model.pkl\",'rb')\n",
    "    ada_model = pickle.load(ada_file)\n",
    "    return [xgb_model,ada_model]"
   ]
  },
  {
   "cell_type": "code",
   "execution_count": 13,
   "metadata": {},
   "outputs": [],
   "source": [
    "def predict(in_values):\n",
    "    headers = ['times_pregnant', 'glucose', 'blood_pressure', \n",
    "           'skin_fold_thick', 'serum_insuling', 'mass_index', 'diabetes_pedigree', 'age']\n",
    "    \n",
    "    xgb_model,ada_model = load_model()\n",
    "    \n",
    "    valArr = in_values.split(':')\n",
    "    splitVal = valArr[0]\n",
    "    \n",
    "    values_arr = splitVal[1:len(splitVal)-1]\n",
    "    values = [float(i) for i in values_arr.split(',')]\n",
    "    input_variables = pd.DataFrame([values],\n",
    "                                columns=headers, \n",
    "                                dtype=float,\n",
    "                                index=['input'])\n",
    "    # Get the model's prediction\n",
    "    #tic = time.time()\n",
    "    tic = float(valArr[1])\n",
    "    xgb_prediction_proba = xgb_model.predict_proba(input_variables)\n",
    "    xgb_prediction = (xgb_prediction_proba[0])[1]\n",
    "    xgb_ret = float(xgb_prediction)\n",
    "    \n",
    "    ada_prediction_proba = ada_model.predict_proba(input_variables)\n",
    "    ada_prediction = (ada_prediction_proba[0])[1]\n",
    "    ada_ret = float(ada_prediction)\n",
    "    toc = time.time()\n",
    "    timetaken = toc - tic\n",
    "    if ada_ret >= xgb_ret:\n",
    "        print('{\"ada-prediction\":' + str(float(ada_prediction)) + '}' + \", time:\" + str(timetaken))\n",
    "\n",
    "    else:\n",
    "        print('{\"xgb-prediction\":' + str(float(xgb_prediction)) + '}' + \", time:\" + str(timetaken))\n"
   ]
  },
  {
   "cell_type": "code",
   "execution_count": 14,
   "metadata": {},
   "outputs": [],
   "source": [
    "def on_message(client, userdata, msg):\n",
    "    values = msg.payload.decode()\n",
    "    #print(values)\n",
    "    \n",
    "    predict(values)"
   ]
  },
  {
   "cell_type": "code",
   "execution_count": 15,
   "metadata": {},
   "outputs": [
    {
     "name": "stdout",
     "output_type": "stream",
     "text": [
      "Connected with result code 0\n",
      "{\"ada-prediction\":0.485313239032451}, time:0.03169894218444824\n",
      "{\"ada-prediction\":0.5046722011165047}, time:0.038103342056274414\n",
      "{\"xgb-prediction\":0.7372106313705444}, time:0.042447566986083984\n",
      "{\"ada-prediction\":0.3266766534291773}, time:0.039881229400634766\n",
      "{\"ada-prediction\":0.48781158273198943}, time:0.05231595039367676\n",
      "{\"xgb-prediction\":0.8558318614959717}, time:0.041797637939453125\n",
      "{\"ada-prediction\":0.4196589520871583}, time:0.039388418197631836\n",
      "{\"xgb-prediction\":0.6972947120666504}, time:0.040311336517333984\n",
      "{\"xgb-prediction\":0.5904819369316101}, time:0.040602684020996094\n",
      "{\"ada-prediction\":0.5078918056550352}, time:0.036771297454833984\n",
      "{\"xgb-prediction\":0.5794687271118164}, time:0.03521847724914551\n",
      "Connected with result code 0\n"
     ]
    },
    {
     "ename": "KeyboardInterrupt",
     "evalue": "",
     "output_type": "error",
     "traceback": [
      "\u001b[0;31m---------------------------------------------------------------------------\u001b[0m",
      "\u001b[0;31mKeyboardInterrupt\u001b[0m                         Traceback (most recent call last)",
      "\u001b[0;32m<ipython-input-15-af50bdf1513a>\u001b[0m in \u001b[0;36m<module>\u001b[0;34m\u001b[0m\n\u001b[1;32m      5\u001b[0m \u001b[0mclient\u001b[0m\u001b[0;34m.\u001b[0m\u001b[0mon_message\u001b[0m \u001b[0;34m=\u001b[0m \u001b[0mon_message\u001b[0m\u001b[0;34m\u001b[0m\u001b[0m\n\u001b[1;32m      6\u001b[0m \u001b[0;34m\u001b[0m\u001b[0m\n\u001b[0;32m----> 7\u001b[0;31m \u001b[0mclient\u001b[0m\u001b[0;34m.\u001b[0m\u001b[0mloop_forever\u001b[0m\u001b[0;34m(\u001b[0m\u001b[0;34m)\u001b[0m\u001b[0;34m\u001b[0m\u001b[0m\n\u001b[0m",
      "\u001b[0;32m/usr/local/lib/python3.5/dist-packages/paho/mqtt/client.py\u001b[0m in \u001b[0;36mloop_forever\u001b[0;34m(self, timeout, max_packets, retry_first_connection)\u001b[0m\n\u001b[1;32m   1780\u001b[0m             \u001b[0mrc\u001b[0m \u001b[0;34m=\u001b[0m \u001b[0mMQTT_ERR_SUCCESS\u001b[0m\u001b[0;34m\u001b[0m\u001b[0m\n\u001b[1;32m   1781\u001b[0m             \u001b[0;32mwhile\u001b[0m \u001b[0mrc\u001b[0m \u001b[0;34m==\u001b[0m \u001b[0mMQTT_ERR_SUCCESS\u001b[0m\u001b[0;34m:\u001b[0m\u001b[0;34m\u001b[0m\u001b[0m\n\u001b[0;32m-> 1782\u001b[0;31m                 \u001b[0mrc\u001b[0m \u001b[0;34m=\u001b[0m \u001b[0mself\u001b[0m\u001b[0;34m.\u001b[0m\u001b[0mloop\u001b[0m\u001b[0;34m(\u001b[0m\u001b[0mtimeout\u001b[0m\u001b[0;34m,\u001b[0m \u001b[0mmax_packets\u001b[0m\u001b[0;34m)\u001b[0m\u001b[0;34m\u001b[0m\u001b[0m\n\u001b[0m\u001b[1;32m   1783\u001b[0m                 \u001b[0;31m# We don't need to worry about locking here, because we've\u001b[0m\u001b[0;34m\u001b[0m\u001b[0;34m\u001b[0m\u001b[0m\n\u001b[1;32m   1784\u001b[0m                 \u001b[0;31m# either called loop_forever() when in single threaded mode, or\u001b[0m\u001b[0;34m\u001b[0m\u001b[0;34m\u001b[0m\u001b[0m\n",
      "\u001b[0;32m/usr/local/lib/python3.5/dist-packages/paho/mqtt/client.py\u001b[0m in \u001b[0;36mloop\u001b[0;34m(self, timeout, max_packets)\u001b[0m\n\u001b[1;32m   1161\u001b[0m         \u001b[0mrlist\u001b[0m \u001b[0;34m=\u001b[0m \u001b[0;34m[\u001b[0m\u001b[0mself\u001b[0m\u001b[0;34m.\u001b[0m\u001b[0m_sock\u001b[0m\u001b[0;34m,\u001b[0m \u001b[0mself\u001b[0m\u001b[0;34m.\u001b[0m\u001b[0m_sockpairR\u001b[0m\u001b[0;34m]\u001b[0m\u001b[0;34m\u001b[0m\u001b[0m\n\u001b[1;32m   1162\u001b[0m         \u001b[0;32mtry\u001b[0m\u001b[0;34m:\u001b[0m\u001b[0;34m\u001b[0m\u001b[0m\n\u001b[0;32m-> 1163\u001b[0;31m             \u001b[0msocklist\u001b[0m \u001b[0;34m=\u001b[0m \u001b[0mselect\u001b[0m\u001b[0;34m.\u001b[0m\u001b[0mselect\u001b[0m\u001b[0;34m(\u001b[0m\u001b[0mrlist\u001b[0m\u001b[0;34m,\u001b[0m \u001b[0mwlist\u001b[0m\u001b[0;34m,\u001b[0m \u001b[0;34m[\u001b[0m\u001b[0;34m]\u001b[0m\u001b[0;34m,\u001b[0m \u001b[0mtimeout\u001b[0m\u001b[0;34m)\u001b[0m\u001b[0;34m\u001b[0m\u001b[0m\n\u001b[0m\u001b[1;32m   1164\u001b[0m         \u001b[0;32mexcept\u001b[0m \u001b[0mTypeError\u001b[0m\u001b[0;34m:\u001b[0m\u001b[0;34m\u001b[0m\u001b[0m\n\u001b[1;32m   1165\u001b[0m             \u001b[0;31m# Socket isn't correct type, in likelihood connection is lost\u001b[0m\u001b[0;34m\u001b[0m\u001b[0;34m\u001b[0m\u001b[0m\n",
      "\u001b[0;31mKeyboardInterrupt\u001b[0m: "
     ]
    }
   ],
   "source": [
    "client = mqtt.Client()\n",
    "client.connect(\"129.59.234.231\",1883,60)\n",
    "\n",
    "client.on_connect = on_connect\n",
    "client.on_message = on_message\n",
    "\n",
    "client.loop_forever()"
   ]
  },
  {
   "cell_type": "code",
   "execution_count": null,
   "metadata": {},
   "outputs": [],
   "source": [
    "#client.disconnect()"
   ]
  },
  {
   "cell_type": "code",
   "execution_count": null,
   "metadata": {},
   "outputs": [],
   "source": []
  },
  {
   "cell_type": "code",
   "execution_count": null,
   "metadata": {},
   "outputs": [],
   "source": []
  }
 ],
 "metadata": {
  "kernelspec": {
   "display_name": "Python 3",
   "language": "python",
   "name": "python3"
  },
  "language_info": {
   "codemirror_mode": {
    "name": "ipython",
    "version": 3
   },
   "file_extension": ".py",
   "mimetype": "text/x-python",
   "name": "python",
   "nbconvert_exporter": "python",
   "pygments_lexer": "ipython3",
   "version": "3.5.2"
  }
 },
 "nbformat": 4,
 "nbformat_minor": 2
}
